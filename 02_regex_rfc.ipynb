{
 "cells": [
  {
   "cell_type": "code",
   "execution_count": 4,
   "id": "dd0e1775-424b-4233-9c39-eb0830f44841",
   "metadata": {},
   "outputs": [
    {
     "name": "stdout",
     "output_type": "stream",
     "text": [
      "True\n"
     ]
    }
   ],
   "source": [
    "import re\n",
    "\n",
    "pattern = r'^([A-ZÑ&]{3,4})\\d{6}([A-Z\\d]{3})?$'\n",
    "\n",
    "rfc = 'PERJ850315X9A'\n",
    "\n",
    "result = re.findall(pattern, rfc, re.IGNORECASE)\n",
    "print(bool(result))"
   ]
  }
 ],
 "metadata": {
  "kernelspec": {
   "display_name": "Python 3 (ipykernel)",
   "language": "python",
   "name": "python3"
  },
  "language_info": {
   "codemirror_mode": {
    "name": "ipython",
    "version": 3
   },
   "file_extension": ".py",
   "mimetype": "text/x-python",
   "name": "python",
   "nbconvert_exporter": "python",
   "pygments_lexer": "ipython3",
   "version": "3.12.4"
  }
 },
 "nbformat": 4,
 "nbformat_minor": 5
}
